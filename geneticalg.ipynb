{
 "cells": [
  {
   "cell_type": "code",
   "execution_count": 1,
   "metadata": {},
   "outputs": [],
   "source": [
    "from random import choices,randint,randrange,random\n",
    "from typing import List,Callable\n",
    "from collections import namedtuple\n",
    "from functools import partial"
   ]
  },
  {
   "cell_type": "code",
   "execution_count": 2,
   "metadata": {},
   "outputs": [],
   "source": [
    "Genome = List[int]\n",
    "Population = List[Genome]\n",
    "PopulateFunc = Callable[[], Population]\n",
    "FitnessFunc = Callable[[Genome], int]\n",
    "SelectionFunc = Callable[[Population, FitnessFunc], tuple[Genome,Genome]]\n",
    "CrossoverFunc = Callable[[Genome,Genome],tuple[Genome,Genome]]\n",
    "MutationFunc = Callable[[Genome],Genome]\n",
    "Thing = namedtuple('Thing',['name','value','weight'])\n",
    "\n",
    "things = [\n",
    "    Thing('Laptop',500,2200),\n",
    "    Thing('Headphones',150,160),\n",
    "    Thing('Mug',60,350),\n",
    "    Thing('Notepad',40,333),\n",
    "    Thing('Bottle',30,192),\n",
    "    Thing('Hammer',300,2000),\n",
    "    Thing('Phone',800,400)\n",
    "]"
   ]
  },
  {
   "cell_type": "code",
   "execution_count": 3,
   "metadata": {},
   "outputs": [],
   "source": [
    "def generate_genome(length: int)-> Genome:\n",
    "    return choices([0,1], k=length)\n",
    "\n",
    "def generate_population(size:int, genome_length: int) -> Population:\n",
    "    return [generate_genome(genome_length) for _ in range(size)]"
   ]
  },
  {
   "cell_type": "code",
   "execution_count": 4,
   "metadata": {},
   "outputs": [],
   "source": [
    "def fitness(genome: Genome, things: list[Thing], weight_limit: int) -> int:\n",
    "    if len(genome) != len(things):\n",
    "        raise ValueError(\"genome and things must be of same length\")\n",
    "    \n",
    "    weight = 0\n",
    "    value = 0\n",
    "\n",
    "    for i, thing in enumerate(things):\n",
    "        if genome[i] == 1:\n",
    "            weight+= thing.weight\n",
    "            value+= thing.value\n",
    "\n",
    "            if weight> weight_limit:\n",
    "                return 0\n",
    "            \n",
    "    return value"
   ]
  },
  {
   "cell_type": "code",
   "execution_count": 5,
   "metadata": {},
   "outputs": [],
   "source": [
    "def selection_pair(population: Population, fitness_function: FitnessFunc) -> Population:\n",
    "    return choices(\n",
    "        population=population,\n",
    "        weights=[fitness_function(genome) for genome in population],\n",
    "        k = 2\n",
    "    )"
   ]
  },
  {
   "cell_type": "code",
   "execution_count": 6,
   "metadata": {},
   "outputs": [],
   "source": [
    "def single_point_crossover(a: Genome, b:Genome) -> tuple[Genome,Genome]:\n",
    "    if len(a) != len(b):\n",
    "        raise ValueError(\"Genomes a and b must be of the same length\")\n",
    "    \n",
    "    length = len(a)\n",
    "    if length < 2:\n",
    "        return a,b\n",
    "    \n",
    "    p = randint(1, length-1)\n",
    "    return a[0:p] + b[p:], b[0:p] + a[p:]"
   ]
  },
  {
   "cell_type": "code",
   "execution_count": 7,
   "metadata": {},
   "outputs": [],
   "source": [
    "def mutation(genome: Genome, num: int = 1, probability: float = 0.5) -> Genome:\n",
    "    for _ in range(num):\n",
    "        index= randrange(len(genome))\n",
    "        if random() <= probability:\n",
    "            mutated_value = abs(genome[index] - 1)\n",
    "        else:\n",
    "            mutated_value = genome[index]\n",
    "        genome[index] = mutated_value\n",
    "    return genome"
   ]
  },
  {
   "cell_type": "code",
   "execution_count": 8,
   "metadata": {},
   "outputs": [],
   "source": [
    "def run_evolution(\n",
    "        populate_func:PopulateFunc,\n",
    "        fitness_func:FitnessFunc,\n",
    "        fitness_limit:int,\n",
    "        selection_func:SelectionFunc = selection_pair,\n",
    "        crossover_func:CrossoverFunc = single_point_crossover,\n",
    "        mutation_func: MutationFunc = mutation,\n",
    "        generation_limit: int = 100\n",
    ") -> tuple[Population, int]:\n",
    "        \n",
    "        population = populate_func()\n",
    "        \n",
    "        for i in range(generation_limit):\n",
    "                population = sorted(\n",
    "                        population,\n",
    "                        key= lambda genome: fitness_func(genome),\n",
    "                        reverse= True\n",
    "                )\n",
    "\n",
    "                if fitness_func(population[0]) >= fitness_limit:\n",
    "                        break\n",
    "\n",
    "                next_generation = population[0:2]\n",
    "\n",
    "                for j in range(int(len(population)/2)-1):\n",
    "                        parents = selection_func(population, fitness_func)\n",
    "                        offspring_a, offspring_b = crossover_func(parents[0],parents[1])\n",
    "                        offspring_a = mutation_func(offspring_a)\n",
    "                        offspring_b = mutation_func(offspring_b)\n",
    "                        next_generation += [offspring_a, offspring_b]\n",
    "\n",
    "                population = next_generation\n",
    "        \n",
    "        population = sorted(\n",
    "                population,\n",
    "                key= lambda genome: fitness_func(genome),\n",
    "                reverse= True\n",
    "        )\n",
    "\n",
    "        return population,i"
   ]
  },
  {
   "cell_type": "code",
   "execution_count": 15,
   "metadata": {},
   "outputs": [],
   "source": [
    "population, generations = run_evolution(\n",
    "    populate_func= partial(generate_population, size=10, genome_length=len(things)),\n",
    "    fitness_func= partial(fitness, things=things, weight_limit=3500),\n",
    "    fitness_limit=1550,\n",
    "    generation_limit=100\n",
    ")"
   ]
  },
  {
   "cell_type": "code",
   "execution_count": 10,
   "metadata": {},
   "outputs": [],
   "source": [
    "def genome_to_things(genome:Genome, things: list[Thing]) -> list[Thing]:\n",
    "    result = []\n",
    "    for i, thing in enumerate(things):\n",
    "        if genome[i] == 1:\n",
    "            result += [thing.name]\n",
    "\n",
    "    return result"
   ]
  },
  {
   "cell_type": "code",
   "execution_count": 18,
   "metadata": {},
   "outputs": [
    {
     "name": "stdout",
     "output_type": "stream",
     "text": [
      "number of generations: 10\n",
      "best solutions: ['Laptop', 'Headphones', 'Mug', 'Notepad', 'Phone']\n"
     ]
    }
   ],
   "source": [
    "print(f\"number of generations: {generations}\")\n",
    "print(f\"best solutions: {genome_to_things(population[0], things)}\")"
   ]
  }
 ],
 "metadata": {
  "kernelspec": {
   "display_name": "Python 3",
   "language": "python",
   "name": "python3"
  },
  "language_info": {
   "codemirror_mode": {
    "name": "ipython",
    "version": 3
   },
   "file_extension": ".py",
   "mimetype": "text/x-python",
   "name": "python",
   "nbconvert_exporter": "python",
   "pygments_lexer": "ipython3",
   "version": "3.11.2"
  },
  "orig_nbformat": 4
 },
 "nbformat": 4,
 "nbformat_minor": 2
}
